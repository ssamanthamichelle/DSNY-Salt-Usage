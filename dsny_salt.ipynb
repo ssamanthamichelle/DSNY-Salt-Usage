{
 "cells": [
  {
   "cell_type": "markdown",
   "metadata": {},
   "source": [
    "Samantha Michelle Garcia\n",
    "\n",
    "#DSNY Salt Usage\n",
    "\n",
    "Link to Dataset: https://catalog.data.gov/dataset/dsny-salt-use-by-day-2015-2017\n",
    "\n",
    "This dataset aims to record the amount of salt used by each borough on a given day of a storm from 2016 through 2019. It is difficult to measure such a large amount accurately, so the New York City Department of Sanitation (DSNY) records the number of times a piece of salt-spreading equipment reloads and multiplies that by the capacity of a piece of salt-spreading equipment which is 16 tons."
   ]
  },
  {
   "cell_type": "code",
   "execution_count": 27,
   "metadata": {},
   "outputs": [],
   "source": [
    "import numpy as np\n",
    "import matplotlib.pyplot as plt"
   ]
  },
  {
   "cell_type": "code",
   "execution_count": 28,
   "metadata": {},
   "outputs": [
    {
     "name": "stdout",
     "output_type": "stream",
     "text": [
      "DSNY Storm # ,Date of Report ,Manhattan,Bronx,Brooklyn,Queens,Staten Island ,Total Tons \n",
      "\n",
      "Storm 1,01/19/2016 12:00:00 AM,1111,2059,2690,6625,2931,15416\n",
      "\n",
      "Storm 2,01/23/2016 12:00:00 AM,2919,4567,5521,9253,4264,26524\n",
      "\n",
      "Storm 2,01/24/2016 12:00:00 AM,6582,8167,12290,17133,5411,49583\n",
      "\n"
     ]
    }
   ],
   "source": [
    "\n",
    "#file_name = \"/Users/samanthagarcia/Desktop/DSNY_Salt_Usage.csv\"\n",
    "file_name = \"DSNY_Salt_Usage.csv\"\n",
    "    \n",
    "try:\n",
    "    my_file = open(file_name, \"r\")\n",
    "    #this_file = np.genfromtxt(file_name, delimiter=\", \")\n",
    "        \n",
    "except:\n",
    "    print(\"File not found\")\n",
    "    \n",
    "else:\n",
    "    print(my_file.readline())\n",
    "    print(my_file.readline())\n",
    "    print(my_file.readline())\n",
    "    print(my_file.readline())\n",
    "        \n",
    "    my_file.close()\n",
    "          "
   ]
  },
  {
   "cell_type": "markdown",
   "metadata": {},
   "source": [
    "#Format\n",
    "The fields of this dataset are \"DSNY Storm #\", \"Date of Report\", \"Manhattan,\" \"Bronx,\" \"Brooklyn\", \"Queens\", \"Staten Island\", and \"Total Tons'. The first column is a string, the second column should be a datetime object, and the other six columns should be numeric, but they are actually all strings.\n",
    "Each record is a day of a storm/weather condition."
   ]
  },
  {
   "cell_type": "markdown",
   "metadata": {},
   "source": [
    "#Questions\n",
    "- On average, which borough uses the greatest amount of salt?\n",
    "- On average, which borough uses the least amount of salt?\n",
    "- Is it consistently the same borough that uses the greatest/least amount of salt?\n",
    "- What percentage of the total salt used does each individual borough use?"
   ]
  },
  {
   "cell_type": "code",
   "execution_count": 29,
   "metadata": {},
   "outputs": [
    {
     "name": "stdout",
     "output_type": "stream",
     "text": [
      "DSNY Storm # ,Date of Report ,Manhattan,Bronx,Brooklyn,Queens,Staten Island ,Total Tons \n",
      "\n",
      "<class 'str'>\n",
      "['DSNYStorm', 'Dateof', 'Manhattan', 'Bronx', 'Brooklyn', 'Queens', 'StatenIsland', 'TotalTons']\n"
     ]
    }
   ],
   "source": [
    "f = open(\"DSNY_Salt_Usage.csv\", \"r\")\n",
    "h = f.readline()\n",
    "\n",
    "print(h)\n",
    "print(type(h))\n",
    "\n",
    "header = h.split(\",\")\n",
    "header = [header[i].strip() for i in range(len(header))]\n",
    "\n",
    "#renaming headers bc spaces made indexing difficult\n",
    "for i in range(len(header)):\n",
    "    h_split = header[i].split(\" \")\n",
    "    if len(h_split) > 1:\n",
    "        new_h = h_split[0] + h_split[1]\n",
    "        header[i] = new_h\n",
    "\n",
    "print(header)"
   ]
  },
  {
   "cell_type": "code",
   "execution_count": 30,
   "metadata": {},
   "outputs": [],
   "source": [
    "all = np.genfromtxt(\"DSNY_Salt_Usage.csv\", delimiter=\",\", skip_header=1, names=header, dtype=None, encoding='UTF-8')\n",
    "\n",
    "all = np.reshape(all, (106, 1))"
   ]
  },
  {
   "cell_type": "code",
   "execution_count": 31,
   "metadata": {},
   "outputs": [],
   "source": [
    "max_total = all[\"TotalTons\"].max()\n",
    "min_total = all[\"TotalTons\"].min()\n",
    "mean_total = all[\"TotalTons\"].mean()"
   ]
  },
  {
   "cell_type": "code",
   "execution_count": 32,
   "metadata": {},
   "outputs": [
    {
     "name": "stdout",
     "output_type": "stream",
     "text": [
      "Maximum amount of salt used in NYC in tons: 53561\n",
      "Minimum amount of salt used in NYC intons: 40\n",
      "Mean amount of salt used in NYC in tons: 13499.207547169812\n"
     ]
    }
   ],
   "source": [
    "print(\"Maximum amount of salt used in NYC in tons: \" + str(max_total))\n",
    "print(\"Minimum amount of salt used in NYC intons: \" + str(min_total))\n",
    "print(\"Mean amount of salt used in NYC in tons: \" + str(mean_total))"
   ]
  },
  {
   "cell_type": "code",
   "execution_count": 33,
   "metadata": {},
   "outputs": [
    {
     "name": "stdout",
     "output_type": "stream",
     "text": [
      "Maximum amount of salt used in Manhattan in tons: 7091\n",
      "Minimum amount of salt used in Manhattan in tons: 0\n",
      "Mean amount of salt used in Manhattan in tons: 1531.9056603773586\n"
     ]
    }
   ],
   "source": [
    "max_manhattan = all[\"Manhattan\"].max()\n",
    "min_manhattan = all[\"Manhattan\"].min()\n",
    "mean_manhattan = all[\"Manhattan\"].mean()\n",
    "\n",
    "\n",
    "print(\"Maximum amount of salt used in Manhattan in tons: \" + str(max_manhattan))\n",
    "print(\"Minimum amount of salt used in Manhattan in tons: \" + str(min_manhattan))\n",
    "print(\"Mean amount of salt used in Manhattan in tons: \"+ str(mean_manhattan))"
   ]
  },
  {
   "cell_type": "code",
   "execution_count": 34,
   "metadata": {},
   "outputs": [
    {
     "name": "stdout",
     "output_type": "stream",
     "text": [
      "NYC Variance \t\t\t\t187630337.8814525\n",
      "NYC Standard Deviation \t\t\t13697.822377350807\n",
      "Manhattan Variance \t\t\t3038663.519401922\n",
      "Manhattan Standard Deviation \t\t1743.1762731869437\n",
      "Interquartile Range NYC \t\t 18108.0\n",
      "Interquartile Range Manhattan \t\t 2189.0\n"
     ]
    }
   ],
   "source": [
    "var_total = all[\"TotalTons\"].var()\n",
    "std_total = all[\"TotalTons\"].std()\n",
    "\n",
    "var_manhattan = all[\"Manhattan\"].var()\n",
    "std_manhattan = all[\"Manhattan\"].std()\n",
    "\n",
    "\n",
    "print(\"NYC Variance \\t\\t\\t\\t\" + str(var_total))\n",
    "print(\"NYC Standard Deviation \\t\\t\\t\" + str(std_total))\n",
    "\n",
    "print(\"Manhattan Variance \\t\\t\\t\" + str(var_manhattan))\n",
    "print(\"Manhattan Standard Deviation \\t\\t\" + str(std_manhattan))\n",
    "\n",
    "#interquartile range for manhattan\n",
    "m_25 = np.percentile(all[\"Manhattan\"], 25)\n",
    "m_75 = np.percentile(all[\"Manhattan\"], 75)\n",
    "m_iqr = m_75 - m_25\n",
    "\n",
    "#interquartile range for nyc\n",
    "t_25 = np.percentile(all[\"TotalTons\"], 25)\n",
    "t_75 = np.percentile(all[\"TotalTons\"], 75)\n",
    "t_iqr = t_75 - t_25\n",
    "\n",
    "\n",
    "print(\"Interquartile Range NYC \\t\\t \" + str(t_iqr))\n",
    "print(\"Interquartile Range Manhattan \\t\\t \" + str(m_iqr))"
   ]
  },
  {
   "cell_type": "markdown",
   "metadata": {},
   "source": [
    "I used Google Sheets to confirm my summary statistics. The min, max, and mean for Manhattan and NYC were the same. The variances differed. Google sheets offers different ways to calculate the variance and after trying a few of them, the function that returned the same results that I got is the population variance (VAR.P). Similarly, the standard deviation function that yielded the same results was the one for a population (STDEV.P)."
   ]
  },
  {
   "cell_type": "code",
   "execution_count": 35,
   "metadata": {},
   "outputs": [
    {
     "name": "stdout",
     "output_type": "stream",
     "text": [
      "Staten Island Mean \t1585.3396226415093\n",
      "Brooklyn Mean \t\t3428.6792452830186\n",
      "Bronx Mean \t\t2496.7735849056603\n",
      "Queens Mean \t\t4456.509433962264\n"
     ]
    }
   ],
   "source": [
    "mean_si = all[\"StatenIsland\"].mean()\n",
    "mean_bk = all[\"Brooklyn\"].mean()\n",
    "mean_bx = all[\"Bronx\"].mean()\n",
    "mean_q = all[\"Queens\"].mean()\n",
    "#mean_manhattan\n",
    "#mean_total\n",
    "\n",
    "print(\"Staten Island Mean \\t\" + str(mean_si))\n",
    "print(\"Brooklyn Mean \\t\\t\" + str(mean_bk))\n",
    "print(\"Bronx Mean \\t\\t\" + str(mean_bx))\n",
    "print(\"Queens Mean \\t\\t\" + str(mean_q))"
   ]
  },
  {
   "cell_type": "code",
   "execution_count": 36,
   "metadata": {},
   "outputs": [
    {
     "data": {
      "image/png": "[encoded data removed]",
      "text/plain": [
       "<Figure size 432x288 with 1 Axes>"
      ]
     },
     "metadata": {
      "needs_background": "light"
     },
     "output_type": "display_data"
    }
   ],
   "source": [
    "plt.title(\"Amount of Salt Used by Borough\")\n",
    "labels = [\"Manhattan\", \"Bronx\", \"Brooklyn\", \"Queens\", \"Staten Island\"]\n",
    "amt = [mean_manhattan, mean_bx, mean_bk, mean_q, mean_si]\n",
    "y = np.arange(len(labels))\n",
    "plt.xticks(y, labels)\n",
    "plt.ylabel(\"Tons of Salt\")\n",
    "plt.bar(y, amt)\n",
    "\n",
    "plt.show()"
   ]
  },
  {
   "cell_type": "code",
   "execution_count": 37,
   "metadata": {},
   "outputs": [
    {
     "data": {
      "image/png": "[encoded data removed]",
      "text/plain": [
       "<Figure size 432x288 with 1 Axes>"
      ]
     },
     "metadata": {},
     "output_type": "display_data"
    },
    {
     "data": {
      "image/png": "[encoded data removed]",
      "text/plain": [
       "<Figure size 432x288 with 1 Axes>"
      ]
     },
     "metadata": {},
     "output_type": "display_data"
    },
    {
     "data": {
      "image/png": "[encoded data removed]",
      "text/plain": [
       "<Figure size 432x288 with 1 Axes>"
      ]
     },
     "metadata": {},
     "output_type": "display_data"
    },
    {
     "data": {
      "image/png": "[encoded data removed]",
      "text/plain": [
       "<Figure size 432x288 with 1 Axes>"
      ]
     },
     "metadata": {},
     "output_type": "display_data"
    },
    {
     "data": {
      "image/png": "[encoded data removed]",
      "text/plain": [
       "<Figure size 432x288 with 1 Axes>"
      ]
     },
     "metadata": {},
     "output_type": "display_data"
    }
   ],
   "source": [
    "#Manhattan\n",
    "plt.subplot()\n",
    "label = [\"Manhattan\", \"NYC\"]\n",
    "amounts = [mean_manhattan, mean_total]\n",
    "explode = (0.1, 0.0)\n",
    "colors = [\"lightblue\", \"darkblue\"]\n",
    "plt.pie(amounts, explode, labels=label, colors=colors)\n",
    "plt.show()\n",
    "\n",
    "#Bronx\n",
    "plt.subplot()\n",
    "label = [\"Bronx\", \"NYC\"]\n",
    "amounts = [mean_bx, mean_total]\n",
    "explode = (0.1, 0.0)\n",
    "colors = [\"darkgreen\", \"darkblue\"]\n",
    "plt.pie(amounts, explode, labels=label, colors=colors)\n",
    "plt.show()\n",
    "\n",
    "#Brooklyn\n",
    "plt.subplot()\n",
    "label = [\"Brooklyn\", \"NYC\"]\n",
    "amounts = [mean_manhattan, mean_total]\n",
    "explode = (0.1, 0.0)\n",
    "colors = [\"lightgreen\", \"darkblue\"]\n",
    "plt.pie(amounts, explode, labels=label, colors=colors)\n",
    "plt.show()\n",
    "\n",
    "#Queens\n",
    "plt.subplot()\n",
    "label = [\"Queens\", \"NYC\"]\n",
    "amounts = [mean_q, mean_total]\n",
    "explode = (0.1, 0.0)\n",
    "colors = [\"darkred\", \"darkblue\"]\n",
    "plt.pie(amounts, explode, labels=label, colors=colors)\n",
    "plt.show()\n",
    "\n",
    "#Staten Island\n",
    "plt.subplot()\n",
    "label = [\"Staten Island\", \"NYC\"]\n",
    "amounts = [mean_si, mean_total]\n",
    "explode = (0.1, 0.0)\n",
    "colors = [\"pink\", \"darkblue\"]\n",
    "plt.pie(amounts, explode, labels=label, colors=colors)\n",
    "plt.show()"
   ]
  },
  {
   "cell_type": "markdown",
   "metadata": {},
   "source": [
    "On average, Queens uses the most salt during storms. I think this makes sense because Queens is the largest borough. Manhattan uses the least amount of salt, on average. Manhattan is the smallest borough so this also makes sense. Some of my questions were answered."
   ]
  },
  {
   "cell_type": "code",
   "execution_count": null,
   "metadata": {},
   "outputs": [],
   "source": []
  }
 ],
 "metadata": {
  "kernelspec": {
   "display_name": "Python 3",
   "language": "python",
   "name": "python3"
  },
  "language_info": {
   "codemirror_mode": {
    "name": "ipython",
    "version": 3
   },
   "file_extension": ".py",
   "mimetype": "text/x-python",
   "name": "python",
   "nbconvert_exporter": "python",
   "pygments_lexer": "ipython3",
   "version": "3.7.4"
  }
 },
 "nbformat": 4,
 "nbformat_minor": 4
}
